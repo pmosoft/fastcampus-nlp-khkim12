{
 "cells": [
  {
   "cell_type": "markdown",
   "metadata": {},
   "source": [
    "# Based on Context Window (Co-occurrence)"
   ]
  },
  {
   "cell_type": "code",
   "execution_count": 1,
   "metadata": {},
   "outputs": [],
   "source": [
    "import pandas as pd\n",
    "from collections import defaultdict"
   ]
  },
  {
   "cell_type": "markdown",
   "metadata": {},
   "source": [
    "## Read text"
   ]
  },
  {
   "cell_type": "code",
   "execution_count": 2,
   "metadata": {},
   "outputs": [],
   "source": [
    "with open('review.sorted.uniq.refined.tsv.text.tok') as f:\n",
    "    lines = [l.strip() for l in f.read().splitlines() if l.strip()]"
   ]
  },
  {
   "cell_type": "markdown",
   "metadata": {},
   "source": [
    "## Define methods"
   ]
  },
  {
   "cell_type": "code",
   "execution_count": 3,
   "metadata": {},
   "outputs": [],
   "source": [
    "def get_term_frequency(document):\n",
    "    term_freq = {}\n",
    "    \n",
    "    words = document.split()\n",
    "\n",
    "    for w in words:\n",
    "        term_freq[w] = 1 + (0 if term_freq.get(w) is None else term_freq[w])\n",
    "\n",
    "    return term_freq"
   ]
  },
  {
   "cell_type": "code",
   "execution_count": 4,
   "metadata": {},
   "outputs": [],
   "source": [
    "def get_context_counts(lines, vocab, w_size=2):\n",
    "    context_cnt = defaultdict(int)\n",
    "    \n",
    "    for line in lines:\n",
    "        words = line.split()\n",
    "        \n",
    "        for i, w in enumerate(words):\n",
    "            if w in vocab:\n",
    "                for c in words[i - w_size:i + w_size]:\n",
    "                    if w != c:\n",
    "                        context_cnt[(w, c)] += 1\n",
    "            \n",
    "    return context_cnt"
   ]
  },
  {
   "cell_type": "code",
   "execution_count": 5,
   "metadata": {},
   "outputs": [],
   "source": [
    "def get_co_occurrence_df(context_cnt, vocab):\n",
    "    data = []\n",
    "    \n",
    "    for word1 in vocab:\n",
    "        row = []\n",
    "        \n",
    "        for word2 in vocab:\n",
    "            try:\n",
    "                count = context_cnt[(word1, word2)]\n",
    "            except KeyError:\n",
    "                count = 0\n",
    "            row.append(count)\n",
    "            \n",
    "        data.append(row)\n",
    "    \n",
    "    return pd.DataFrame(data, index=vocab, columns=vocab)"
   ]
  },
  {
   "cell_type": "markdown",
   "metadata": {},
   "source": [
    "## Call methods"
   ]
  },
  {
   "cell_type": "markdown",
   "metadata": {},
   "source": [
    "Count frequency of each word."
   ]
  },
  {
   "cell_type": "code",
   "execution_count": 6,
   "metadata": {
    "scrolled": true
   },
   "outputs": [
    {
     "data": {
      "text/plain": [
       ".         86303\n",
       "고         49631\n",
       "이         44952\n",
       "하         42916\n",
       "좋         34589\n",
       "          ...  \n",
       "두드려서          1\n",
       "gvudsf        1\n",
       "ㅕㅅ            1\n",
       "나후            1\n",
       "녹물            1\n",
       "Length: 30084, dtype: int64"
      ]
     },
     "execution_count": 6,
     "metadata": {},
     "output_type": "execute_result"
    }
   ],
   "source": [
    "term_freq = pd.Series(\n",
    "    get_term_frequency(' '.join(lines))\n",
    ").sort_values(ascending=False)\n",
    "\n",
    "term_freq"
   ]
  },
  {
   "cell_type": "code",
   "execution_count": 7,
   "metadata": {},
   "outputs": [],
   "source": [
    "vector_size = 800"
   ]
  },
  {
   "cell_type": "markdown",
   "metadata": {},
   "source": [
    "Because most of words are seen only few times, we don't need all of them.<br>\n",
    "Thus, we can truncate low-frequency words."
   ]
  },
  {
   "cell_type": "code",
   "execution_count": 8,
   "metadata": {},
   "outputs": [
    {
     "data": {
      "text/plain": [
       "Index(['.', '고', '이', '하', '좋', '네요', '도', '에', '는', '가',\n",
       "       ...\n",
       "       '한쪽', '엄마', '가을', 'ㅁ', '국산', '요청', '마', '보풀', '세일', '싸구려'],\n",
       "      dtype='object', length=800)"
      ]
     },
     "execution_count": 8,
     "metadata": {},
     "output_type": "execute_result"
    }
   ],
   "source": [
    "term_freq.index[:vector_size]"
   ]
  },
  {
   "cell_type": "markdown",
   "metadata": {},
   "source": [
    "Now, we count with context windowing based on truncated dictionary."
   ]
  },
  {
   "cell_type": "code",
   "execution_count": 9,
   "metadata": {},
   "outputs": [
    {
     "data": {
      "text/plain": [
       "라고  비지떡     31\n",
       "    \".       1\n",
       "    200      2\n",
       "    ml       5\n",
       "    판매      16\n",
       "          ... \n",
       "았   ㅍ        1\n",
       "감사  ㅍㅍ       2\n",
       "고   수수     106\n",
       "수고  수수     212\n",
       "    고수       3\n",
       "Length: 1047278, dtype: int64"
      ]
     },
     "execution_count": 9,
     "metadata": {},
     "output_type": "execute_result"
    }
   ],
   "source": [
    "context_cnt = pd.Series(\n",
    "    get_context_counts(\n",
    "        lines,\n",
    "        term_freq.index[:vector_size],\n",
    "        w_size=4\n",
    "    )\n",
    ")\n",
    "\n",
    "context_cnt"
   ]
  },
  {
   "cell_type": "markdown",
   "metadata": {},
   "source": [
    "Build Pandas DataFrame with given context-windowing result."
   ]
  },
  {
   "cell_type": "code",
   "execution_count": 10,
   "metadata": {
    "scrolled": true
   },
   "outputs": [
    {
     "data": {
      "text/html": [
       "<div>\n",
       "<style scoped>\n",
       "    .dataframe tbody tr th:only-of-type {\n",
       "        vertical-align: middle;\n",
       "    }\n",
       "\n",
       "    .dataframe tbody tr th {\n",
       "        vertical-align: top;\n",
       "    }\n",
       "\n",
       "    .dataframe thead th {\n",
       "        text-align: right;\n",
       "    }\n",
       "</style>\n",
       "<table border=\"1\" class=\"dataframe\">\n",
       "  <thead>\n",
       "    <tr style=\"text-align: right;\">\n",
       "      <th></th>\n",
       "      <th>.</th>\n",
       "      <th>고</th>\n",
       "      <th>이</th>\n",
       "      <th>하</th>\n",
       "      <th>좋</th>\n",
       "      <th>네요</th>\n",
       "      <th>도</th>\n",
       "      <th>에</th>\n",
       "      <th>는</th>\n",
       "      <th>가</th>\n",
       "      <th>...</th>\n",
       "      <th>한쪽</th>\n",
       "      <th>엄마</th>\n",
       "      <th>가을</th>\n",
       "      <th>ㅁ</th>\n",
       "      <th>국산</th>\n",
       "      <th>요청</th>\n",
       "      <th>마</th>\n",
       "      <th>보풀</th>\n",
       "      <th>세일</th>\n",
       "      <th>싸구려</th>\n",
       "    </tr>\n",
       "  </thead>\n",
       "  <tbody>\n",
       "    <tr>\n",
       "      <th>.</th>\n",
       "      <td>0</td>\n",
       "      <td>9200</td>\n",
       "      <td>11111</td>\n",
       "      <td>9760</td>\n",
       "      <td>8211</td>\n",
       "      <td>14149</td>\n",
       "      <td>7929</td>\n",
       "      <td>6816</td>\n",
       "      <td>5063</td>\n",
       "      <td>5321</td>\n",
       "      <td>...</td>\n",
       "      <td>41</td>\n",
       "      <td>45</td>\n",
       "      <td>63</td>\n",
       "      <td>14</td>\n",
       "      <td>44</td>\n",
       "      <td>68</td>\n",
       "      <td>30</td>\n",
       "      <td>61</td>\n",
       "      <td>35</td>\n",
       "      <td>85</td>\n",
       "    </tr>\n",
       "    <tr>\n",
       "      <th>고</th>\n",
       "      <td>8762</td>\n",
       "      <td>0</td>\n",
       "      <td>4682</td>\n",
       "      <td>13988</td>\n",
       "      <td>7102</td>\n",
       "      <td>3398</td>\n",
       "      <td>15105</td>\n",
       "      <td>3634</td>\n",
       "      <td>3142</td>\n",
       "      <td>2426</td>\n",
       "      <td>...</td>\n",
       "      <td>62</td>\n",
       "      <td>15</td>\n",
       "      <td>26</td>\n",
       "      <td>17</td>\n",
       "      <td>23</td>\n",
       "      <td>30</td>\n",
       "      <td>47</td>\n",
       "      <td>41</td>\n",
       "      <td>18</td>\n",
       "      <td>30</td>\n",
       "    </tr>\n",
       "    <tr>\n",
       "      <th>이</th>\n",
       "      <td>10028</td>\n",
       "      <td>4767</td>\n",
       "      <td>0</td>\n",
       "      <td>3377</td>\n",
       "      <td>2854</td>\n",
       "      <td>6044</td>\n",
       "      <td>2169</td>\n",
       "      <td>3326</td>\n",
       "      <td>4554</td>\n",
       "      <td>2224</td>\n",
       "      <td>...</td>\n",
       "      <td>140</td>\n",
       "      <td>18</td>\n",
       "      <td>35</td>\n",
       "      <td>12</td>\n",
       "      <td>101</td>\n",
       "      <td>14</td>\n",
       "      <td>21</td>\n",
       "      <td>128</td>\n",
       "      <td>51</td>\n",
       "      <td>42</td>\n",
       "    </tr>\n",
       "    <tr>\n",
       "      <th>하</th>\n",
       "      <td>9051</td>\n",
       "      <td>13688</td>\n",
       "      <td>3625</td>\n",
       "      <td>0</td>\n",
       "      <td>3654</td>\n",
       "      <td>5694</td>\n",
       "      <td>4859</td>\n",
       "      <td>2738</td>\n",
       "      <td>5121</td>\n",
       "      <td>1925</td>\n",
       "      <td>...</td>\n",
       "      <td>19</td>\n",
       "      <td>40</td>\n",
       "      <td>9</td>\n",
       "      <td>20</td>\n",
       "      <td>13</td>\n",
       "      <td>63</td>\n",
       "      <td>30</td>\n",
       "      <td>18</td>\n",
       "      <td>60</td>\n",
       "      <td>15</td>\n",
       "    </tr>\n",
       "    <tr>\n",
       "      <th>좋</th>\n",
       "      <td>8096</td>\n",
       "      <td>8274</td>\n",
       "      <td>2990</td>\n",
       "      <td>3881</td>\n",
       "      <td>0</td>\n",
       "      <td>5551</td>\n",
       "      <td>5104</td>\n",
       "      <td>1636</td>\n",
       "      <td>1194</td>\n",
       "      <td>1210</td>\n",
       "      <td>...</td>\n",
       "      <td>0</td>\n",
       "      <td>28</td>\n",
       "      <td>33</td>\n",
       "      <td>23</td>\n",
       "      <td>15</td>\n",
       "      <td>0</td>\n",
       "      <td>9</td>\n",
       "      <td>11</td>\n",
       "      <td>10</td>\n",
       "      <td>13</td>\n",
       "    </tr>\n",
       "    <tr>\n",
       "      <th>...</th>\n",
       "      <td>...</td>\n",
       "      <td>...</td>\n",
       "      <td>...</td>\n",
       "      <td>...</td>\n",
       "      <td>...</td>\n",
       "      <td>...</td>\n",
       "      <td>...</td>\n",
       "      <td>...</td>\n",
       "      <td>...</td>\n",
       "      <td>...</td>\n",
       "      <td>...</td>\n",
       "      <td>...</td>\n",
       "      <td>...</td>\n",
       "      <td>...</td>\n",
       "      <td>...</td>\n",
       "      <td>...</td>\n",
       "      <td>...</td>\n",
       "      <td>...</td>\n",
       "      <td>...</td>\n",
       "      <td>...</td>\n",
       "      <td>...</td>\n",
       "    </tr>\n",
       "    <tr>\n",
       "      <th>요청</th>\n",
       "      <td>68</td>\n",
       "      <td>29</td>\n",
       "      <td>18</td>\n",
       "      <td>59</td>\n",
       "      <td>1</td>\n",
       "      <td>11</td>\n",
       "      <td>17</td>\n",
       "      <td>33</td>\n",
       "      <td>4</td>\n",
       "      <td>14</td>\n",
       "      <td>...</td>\n",
       "      <td>0</td>\n",
       "      <td>0</td>\n",
       "      <td>0</td>\n",
       "      <td>0</td>\n",
       "      <td>0</td>\n",
       "      <td>0</td>\n",
       "      <td>0</td>\n",
       "      <td>0</td>\n",
       "      <td>0</td>\n",
       "      <td>0</td>\n",
       "    </tr>\n",
       "    <tr>\n",
       "      <th>마</th>\n",
       "      <td>32</td>\n",
       "      <td>51</td>\n",
       "      <td>19</td>\n",
       "      <td>35</td>\n",
       "      <td>8</td>\n",
       "      <td>37</td>\n",
       "      <td>12</td>\n",
       "      <td>14</td>\n",
       "      <td>10</td>\n",
       "      <td>13</td>\n",
       "      <td>...</td>\n",
       "      <td>0</td>\n",
       "      <td>0</td>\n",
       "      <td>0</td>\n",
       "      <td>0</td>\n",
       "      <td>0</td>\n",
       "      <td>0</td>\n",
       "      <td>0</td>\n",
       "      <td>0</td>\n",
       "      <td>0</td>\n",
       "      <td>0</td>\n",
       "    </tr>\n",
       "    <tr>\n",
       "      <th>보풀</th>\n",
       "      <td>54</td>\n",
       "      <td>46</td>\n",
       "      <td>124</td>\n",
       "      <td>23</td>\n",
       "      <td>14</td>\n",
       "      <td>36</td>\n",
       "      <td>26</td>\n",
       "      <td>38</td>\n",
       "      <td>22</td>\n",
       "      <td>6</td>\n",
       "      <td>...</td>\n",
       "      <td>0</td>\n",
       "      <td>0</td>\n",
       "      <td>0</td>\n",
       "      <td>0</td>\n",
       "      <td>0</td>\n",
       "      <td>0</td>\n",
       "      <td>0</td>\n",
       "      <td>0</td>\n",
       "      <td>0</td>\n",
       "      <td>0</td>\n",
       "    </tr>\n",
       "    <tr>\n",
       "      <th>세일</th>\n",
       "      <td>37</td>\n",
       "      <td>25</td>\n",
       "      <td>22</td>\n",
       "      <td>50</td>\n",
       "      <td>12</td>\n",
       "      <td>13</td>\n",
       "      <td>10</td>\n",
       "      <td>22</td>\n",
       "      <td>18</td>\n",
       "      <td>5</td>\n",
       "      <td>...</td>\n",
       "      <td>0</td>\n",
       "      <td>0</td>\n",
       "      <td>0</td>\n",
       "      <td>0</td>\n",
       "      <td>22</td>\n",
       "      <td>0</td>\n",
       "      <td>0</td>\n",
       "      <td>0</td>\n",
       "      <td>0</td>\n",
       "      <td>0</td>\n",
       "    </tr>\n",
       "    <tr>\n",
       "      <th>싸구려</th>\n",
       "      <td>66</td>\n",
       "      <td>31</td>\n",
       "      <td>39</td>\n",
       "      <td>15</td>\n",
       "      <td>14</td>\n",
       "      <td>31</td>\n",
       "      <td>24</td>\n",
       "      <td>14</td>\n",
       "      <td>28</td>\n",
       "      <td>25</td>\n",
       "      <td>...</td>\n",
       "      <td>0</td>\n",
       "      <td>0</td>\n",
       "      <td>0</td>\n",
       "      <td>0</td>\n",
       "      <td>1</td>\n",
       "      <td>0</td>\n",
       "      <td>0</td>\n",
       "      <td>0</td>\n",
       "      <td>0</td>\n",
       "      <td>0</td>\n",
       "    </tr>\n",
       "  </tbody>\n",
       "</table>\n",
       "<p>800 rows × 800 columns</p>\n",
       "</div>"
      ],
      "text/plain": [
       "         .      고      이      하     좋     네요      도     에     는     가  ...  \\\n",
       ".        0   9200  11111   9760  8211  14149   7929  6816  5063  5321  ...   \n",
       "고     8762      0   4682  13988  7102   3398  15105  3634  3142  2426  ...   \n",
       "이    10028   4767      0   3377  2854   6044   2169  3326  4554  2224  ...   \n",
       "하     9051  13688   3625      0  3654   5694   4859  2738  5121  1925  ...   \n",
       "좋     8096   8274   2990   3881     0   5551   5104  1636  1194  1210  ...   \n",
       "..     ...    ...    ...    ...   ...    ...    ...   ...   ...   ...  ...   \n",
       "요청      68     29     18     59     1     11     17    33     4    14  ...   \n",
       "마       32     51     19     35     8     37     12    14    10    13  ...   \n",
       "보풀      54     46    124     23    14     36     26    38    22     6  ...   \n",
       "세일      37     25     22     50    12     13     10    22    18     5  ...   \n",
       "싸구려     66     31     39     15    14     31     24    14    28    25  ...   \n",
       "\n",
       "      한쪽  엄마  가을   ㅁ   국산  요청   마   보풀  세일  싸구려  \n",
       ".     41  45  63  14   44  68  30   61  35   85  \n",
       "고     62  15  26  17   23  30  47   41  18   30  \n",
       "이    140  18  35  12  101  14  21  128  51   42  \n",
       "하     19  40   9  20   13  63  30   18  60   15  \n",
       "좋      0  28  33  23   15   0   9   11  10   13  \n",
       "..   ...  ..  ..  ..  ...  ..  ..  ...  ..  ...  \n",
       "요청     0   0   0   0    0   0   0    0   0    0  \n",
       "마      0   0   0   0    0   0   0    0   0    0  \n",
       "보풀     0   0   0   0    0   0   0    0   0    0  \n",
       "세일     0   0   0   0   22   0   0    0   0    0  \n",
       "싸구려    0   0   0   0    1   0   0    0   0    0  \n",
       "\n",
       "[800 rows x 800 columns]"
      ]
     },
     "execution_count": 10,
     "metadata": {},
     "output_type": "execute_result"
    }
   ],
   "source": [
    "df = get_co_occurrence_df(context_cnt, term_freq.index[:vector_size])\n",
    "\n",
    "df"
   ]
  },
  {
   "cell_type": "code",
   "execution_count": 11,
   "metadata": {},
   "outputs": [
    {
     "data": {
      "text/plain": [
       "(800, 800)"
      ]
     },
     "execution_count": 11,
     "metadata": {},
     "output_type": "execute_result"
    }
   ],
   "source": [
    "df.values.shape"
   ]
  },
  {
   "cell_type": "markdown",
   "metadata": {},
   "source": [
    "Now, we have co-occurrence vectors, but you can see that there are still many sparse vectors in the DataFrame."
   ]
  },
  {
   "cell_type": "markdown",
   "metadata": {},
   "source": [
    "homework: Take a PCA to reduce the dimension of the vectors."
   ]
  },
  {
   "cell_type": "markdown",
   "metadata": {},
   "source": [
    "# Similarity Measures"
   ]
  },
  {
   "cell_type": "markdown",
   "metadata": {},
   "source": [
    "## Define metrics"
   ]
  },
  {
   "cell_type": "code",
   "execution_count": 12,
   "metadata": {},
   "outputs": [],
   "source": [
    "import torch"
   ]
  },
  {
   "cell_type": "markdown",
   "metadata": {},
   "source": [
    "$$\n",
    "\\text{d}_{\\text{L1}}(w,v)=\\sum_{i=1}^d{|w_i-v_i|},\\text{ where }w,v\\in\\mathbb{R}^d.\n",
    "$$"
   ]
  },
  {
   "cell_type": "code",
   "execution_count": 13,
   "metadata": {},
   "outputs": [],
   "source": [
    "def get_l1_distance(x1, x2):\n",
    "    return ((x1 - x2).abs()).sum()"
   ]
  },
  {
   "cell_type": "markdown",
   "metadata": {},
   "source": [
    "$$\n",
    "\\text{d}_{\\text{L2}}(w,v)=\\sqrt{\\sum_{i=1}^d{(w_i-v_i)^2}},\\text{ where }w,v\\in\\mathbb{R}^d.\n",
    "$$"
   ]
  },
  {
   "cell_type": "code",
   "execution_count": 14,
   "metadata": {},
   "outputs": [],
   "source": [
    "def get_l2_distance(x1, x2):\n",
    "    return ((x1 - x2)**2).sum()**.5"
   ]
  },
  {
   "cell_type": "markdown",
   "metadata": {},
   "source": [
    "$$\n",
    "d_{\\infty}(w,v)=\\max(|w_1-v_1|,|w_2-v_2|,\\cdots,|w_d-v_d|),\\text{ where }w,v\\in\\mathbb{R}^d\n",
    "$$"
   ]
  },
  {
   "cell_type": "code",
   "execution_count": 15,
   "metadata": {},
   "outputs": [],
   "source": [
    "def get_infinity_distance(x1, x2):\n",
    "    return ((x1 - x2).abs()).max()"
   ]
  },
  {
   "cell_type": "markdown",
   "metadata": {},
   "source": [
    "$$\n",
    "\\begin{aligned}\n",
    "\\text{sim}_{\\text{cos}}(w,v)&=\\overbrace{\\frac{w\\cdot v}{|w||v|}}^{\\text{dot product}}\n",
    "=\\overbrace{\\frac{w}{|w|}}^{\\text{unit vector}}\\cdot\\frac{v}{|v|} \\\\\n",
    "&=\\frac{\\sum_{i=1}^{d}{w_iv_i}}{\\sqrt{\\sum_{i=1}^d{w_i^2}}\\sqrt{\\sum_{i=1}^d{v_i^2}}} \\\\\n",
    "\\text{where }&w,v\\in\\mathbb{R}^d\n",
    "\\end{aligned}\n",
    "$$"
   ]
  },
  {
   "cell_type": "code",
   "execution_count": 16,
   "metadata": {},
   "outputs": [],
   "source": [
    "def get_cosine_similarity(x1, x2):\n",
    "    return (x1 * x2).sum() / ((x1**2).sum()**.5 * (x2**2).sum()**.5 + 1e-10)"
   ]
  },
  {
   "cell_type": "markdown",
   "metadata": {},
   "source": [
    "$$\n",
    "\\begin{aligned}\n",
    "\\text{sim}_{\\text{jaccard}}(w,v)&=\\frac{|w \\cap v|}{|w \\cup v|} \\\\\n",
    "&=\\frac{|w \\cap v|}{|w|+|v|-|w \\cap v|} \\\\\n",
    "&\\approx\\frac{\\sum_{i=1}^d{\\min(w_i,v_i)}}{\\sum_{i=1}^d{\\max(w_i,v_i)}} \\\\\n",
    "\\text{where }&w,v\\in\\mathbb{R}^d.\n",
    "\\end{aligned}\n",
    "$$"
   ]
  },
  {
   "cell_type": "markdown",
   "metadata": {},
   "source": [
    "Because above methods are defined with same interface, we can switch it if we needed."
   ]
  },
  {
   "cell_type": "code",
   "execution_count": 17,
   "metadata": {},
   "outputs": [],
   "source": [
    "def get_nearest(query, dataframe, metric, top_k, ascending=True):\n",
    "    vector = torch.from_numpy(dataframe.loc[query].values).float()\n",
    "    distances = dataframe.apply(\n",
    "        lambda x: metric(vector, torch.from_numpy(x.values).float()),\n",
    "        axis=1,\n",
    "    )\n",
    "    top_distances = distances.sort_values(ascending=ascending)[:top_k]\n",
    "\n",
    "    print(', '.join([f'{k} ({v:.1f})' for k, v in top_distances.items()]))"
   ]
  },
  {
   "cell_type": "markdown",
   "metadata": {},
   "source": [
    "## Show nearest neighbor of given word for each metric."
   ]
  },
  {
   "cell_type": "code",
   "execution_count": 18,
   "metadata": {},
   "outputs": [
    {
     "name": "stdout",
     "output_type": "stream",
     "text": [
      "L1 distance:\n",
      "반품 (0.0), 교환 (7246.0), ㅠㅠ (8674.0), ㅠ (8832.0), 말 (9029.0), 다시 (9094.0), 다고 (9220.0), 확인 (9378.0), 그리고 (9467.0), 못 (9480.0)\n",
      "\n",
      "L2 distance:\n",
      "반품 (0.0), 교환 (984.0), 다고 (1076.1), 깔끔 (1125.0), 다시 (1207.6), 확인 (1213.0), 싶 (1229.0), 여 (1279.8), 포장 (1285.4), 긴 (1302.4)\n",
      "\n",
      "Infinity distance:\n",
      "반품 (0.0), 다고 (456.0), 를 (458.0), 깔끔 (461.0), 여 (510.0), 긴 (522.0), 로 (534.0), 확인 (547.0), 교환 (564.0), 싶 (565.0)\n",
      "\n",
      "Cosine similarity:\n",
      "반품 (1.0), 교환 (0.9), 조립 (0.9), 환불 (0.9), 사용 (0.9), 확인 (0.9), 작업 (0.9), 기 (0.8), 설치 (0.8), 다고 (0.8)\n"
     ]
    }
   ],
   "source": [
    "print('L1 distance:')\n",
    "get_nearest('반품', df, get_l1_distance, 10)\n",
    "print('\\nL2 distance:')\n",
    "get_nearest('반품', df, get_l2_distance, 10)\n",
    "print('\\nInfinity distance:')\n",
    "get_nearest('반품', df, get_infinity_distance, 10)\n",
    "print('\\nCosine similarity:')\n",
    "get_nearest('반품', df, get_cosine_similarity, 10, ascending=False)"
   ]
  },
  {
   "cell_type": "code",
   "execution_count": null,
   "metadata": {},
   "outputs": [],
   "source": []
  }
 ],
 "metadata": {
  "kernelspec": {
   "display_name": "Python 3",
   "language": "python",
   "name": "python3"
  },
  "language_info": {
   "codemirror_mode": {
    "name": "ipython",
    "version": 3
   },
   "file_extension": ".py",
   "mimetype": "text/x-python",
   "name": "python",
   "nbconvert_exporter": "python",
   "pygments_lexer": "ipython3",
   "version": "3.7.6"
  }
 },
 "nbformat": 4,
 "nbformat_minor": 2
}
