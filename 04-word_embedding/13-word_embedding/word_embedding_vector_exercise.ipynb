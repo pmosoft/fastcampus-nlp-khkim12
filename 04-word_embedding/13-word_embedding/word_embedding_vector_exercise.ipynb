{
 "cells": [
  {
   "cell_type": "markdown",
   "metadata": {},
   "source": [
    "# How to Install\n",
    "\n",
    "\n",
    "## Using Make\n",
    "\n",
    "```bash\n",
    "$ git clone https://github.com/facebookresearch/fastText.git\n",
    "$ cd fastText\n",
    "$ mkdir build && cd build && cmake ..\n",
    "$ make && make install\n",
    "```\n",
    "\n",
    "## Using Pip\n",
    "\n",
    "```bash\n",
    "$ git clone https://github.com/facebookresearch/fastText.git\n",
    "$ cd fastText\n",
    "$ conda install -c conda-forge fasttext\n",
    "```"
   ]
  },
  {
   "cell_type": "markdown",
   "metadata": {},
   "source": [
    "## Trouble-shooting\n",
    "\n",
    "### For Mac\n",
    "\n",
    "In case if you have failure to install 'fastText', install following packages.\n",
    "\n",
    "```bash\n",
    "$ xcode-select --install\n",
    "$ brew install cmake\n",
    "$ brew install gcc\n",
    "```"
   ]
  },
  {
   "cell_type": "markdown",
   "metadata": {},
   "source": [
    "### For Windows\n",
    "\n",
    "download binary: https://github.com/xiamx/fastText/releases/download/fastText-latest-build43/fasttext-win64-latest-Release.zip\n",
    "\n",
    "Also, you need to register directory path to environment.\n",
    "\n",
    "If you want to import fasttext in python,\n",
    "\n",
    "https://pypi.org/project/fasttext-win/\n",
    "\n",
    "```sh\n",
    "$ pip install fasttext\n",
    "```\n",
    "\n"
   ]
  },
  {
   "cell_type": "code",
   "execution_count": 1,
   "metadata": {},
   "outputs": [
    {
     "name": "stdout",
     "output_type": "stream",
     "text": [
      "usage: fasttext <command> <args>\r\n",
      "\r\n",
      "The commands supported by fasttext are:\r\n",
      "\r\n",
      "  supervised              train a supervised classifier\r\n",
      "  quantize                quantize a model to reduce the memory usage\r\n",
      "  test                    evaluate a supervised classifier\r\n",
      "  test-label              print labels with precision and recall scores\r\n",
      "  predict                 predict most likely labels\r\n",
      "  predict-prob            predict most likely labels with probabilities\r\n",
      "  skipgram                train a skipgram model\r\n",
      "  cbow                    train a cbow model\r\n",
      "  print-word-vectors      print word vectors given a trained model\r\n",
      "  print-sentence-vectors  print sentence vectors given a trained model\r\n",
      "  print-ngrams            print ngrams given a trained model and word\r\n",
      "  nn                      query for nearest neighbors\r\n",
      "  analogies               query for analogies\r\n",
      "  dump                    dump arguments,dictionary,input/output vectors\r\n",
      "\r\n"
     ]
    }
   ],
   "source": [
    "!fasttext"
   ]
  },
  {
   "cell_type": "code",
   "execution_count": 2,
   "metadata": {},
   "outputs": [
    {
     "name": "stdout",
     "output_type": "stream",
     "text": [
      "\" 싼 게 비지떡 \". 200 ml 라고 판매 하 는데 내 가 보 기 엔 절대 이거 100 ml 도 안 된다 . 뚜껑 열 다가 손톱 부러지 고 , 향기 는 에프 킬 라 . . 구매 후기 잘 안 쓰 는데 이건 진짜 최악 이 다 . \r\n",
      "\" 비싸 ~~~~ 요 \" 라고 후기 를 남기 네요 \r\n",
      "\" 화이트 \" 로 구매 했 는데 . .. 왜 다른 제품 으로 오 죠 ? 외국 에서 배송 받 지 않 았 다면 . .. 당장 반품 인데 ~~~ \r\n",
      "\" 화이트 \" 로 구매 했 는데 . .. 다른 제품 으로 배송 되 어 왔 어요 ! ! 여기 가 외국 이 아니 라면 . .. 당장 반품 인데 ~~~ \r\n",
      "' 듀퐁 골드 ' 구매 했 는데 . . 골드 가 아니 라 X 색 이 네요 . ㅠ . ㅠ 사진 으로 만 봤 을 땐 약간 의 광택 이 있 고 화려 하 리라 생각 했 는데 . . 그렇 지 않 고 완전 텁텁 한 X 색 . .. 이사 하 고 나 서 집들이 손 님 맞이 용 으로 구매 한 거 라 교환 할 시간 도 없 고 해서 그냥 달 았 습니다 . 커튼 설치 는 신랑 이 한 거 라서 쉽 게 했 고요 . 다른 분 리플 과 는 달리 부품 은 여분 으로 많이 주 셔서 남 았 습니다 . 여분 으로 여러 개 온 것 도 모르 고 커튼 봉 에 죄다 넣 어 놔서 놀 고 있 는 부품 들 이 있 네요 . 다시 달 려고 하 니 신랑 이 귀찮 아 해서 포기 . . --; 암막 커튼 으로서 의 기능 은 확실 하 네요 . 한 낮 에 도 햇빛 하나 안 들어오 네요 . ㅋ 너무 어두워서 낮 엔 속 커튼 만 쳐 놓 고 있 어요 . 커튼 천 도 두꺼워서 바람막이 역할 도 확실히 하 네요 . 참고 로 사실 때 가로 x 세로 길 이 확실히 보 시 고 사 시 길 . . 전 가로 길이 만 생각 하 고 세로 길이 를 미처 생각 못 했 거든요 . 달 고 보 니 많이 모자라 네요 . 이런 실수 저 만 하 는 건가 . .? ^^; \r\n",
      "( NEW ) 하수구 냄새 차단 트랩 하수구 / 싱크대 / 세면대 / 세탁기 냄새 차단 ! ! 하수구 트랩 싱크대 배수구 씽크 대배 수구 냄새 는 어느 정도 차단 되 는 듯 하 나 . . 작 은 날파리 들 은 올라오 네요 -- \r\n",
      "( 지극히 개인 적 인 후기 ) 색은 차콜 로 했 지만 갈색 이 나오 는 거 같 고 이건 사람 피부색 에 따라 다를 거 같 고 저 는 괜찮 아서 색 은 참 마음 에 드 는데 아무리 유분 기 가 있 게 해서 그려 주 어도 눈썹 이 있 는 살 ( 피부 ) 만 아프 지 정말 잘 그려지 지 않 아요 ㅜㅜ제가 똥 손 이 어서 그런 거 라 생각 하 려 했 는데 아니 에요 ㅠㅠㅠㅠ진짜 그리 고 싶 어도 잘 안 나와서 못 그려요 ㅠㅠ 꾹꾹 눌러서 그려 주 면 나오 기 야 나오 는데 피부 가 너무 아파서 . .. 후 ㅠㅠ삐아 다른 색조 화장품 이나 아이라이너 쪽 은 너무 만족 해서 이것 또한 기대 하 고 구매 한 거 였 는데 그냥 갈색 색연필 로 쓰 려구요 ㅠㅠ허허 . . \r\n",
      "( 광목 패치 퍼플 . 블루 ; 화면 색상 과 달라도 너무나 다르 고 선명 하 지 않 고 빛바랜 색상 이 네요 . . 커버 두께 는 몇 번 빨 면 다 헤 질 듯이 얇 고 요즘 솜 도 압축 으로 보내 던데 통 으로 보내 서 두께 가 ;; \r\n",
      "( 행사 특가 ) 라는 표시 는 없애 시 는 게 좋 을 듯 . . 점점 가격 이 내려감 ( 행사 특가 ) 라는 표시 는 없애 시 는 게 좋 을 듯 . . 점점 가격 이 내려감 ( 행사 특가 ) 라는 표시 는 없애 시 는 게 좋 을 듯 . . 점점 가격 이 내려감 ( 행사 특가 ) 라는 표시 는 없애 시 는 게 좋 을 듯 . . 점점 가격 이 내려감 ( 행사 특가 ) 라는 표시 는 없애 시 는 게 좋 을 듯 . . 점점 가격 이 내려감 ( 행사 특가 ) 라는 표시 는 없애 시 는 게 좋 을 듯 . . 점점 가격 이 내려감 ( 행사 특가 ) 라는 표시 는 없애 시 는 게 좋 을 듯 . . 점점 가격 이 내려감 ( 행사 특가 ) 라는 표시 는 없애 시 는 게 좋 을 듯 . . 점점 가격 이 내려감 ( 행사 특가 ) 라는 표시 는 없애 시 는 게 좋 을 듯 . . 점점 가격 이 내려감 ( 행사 특가 ) 라는 표시 는 없애 시 는 게 좋 을 듯 . . 점점 가격 이 내려감 \r\n",
      "( 행사 특가 ) 페리오 치약 150 g x 20 개 청 은 차 애경 2080 송염 메디안 치석 충치 입 냄새 제거 구취 기능 성 B 상품 선택 : 45 강력 한 스 크 럽 x 4 + 촉촉 한 겔 x 4 \r\n"
     ]
    }
   ],
   "source": [
    "!head ./review.sorted.uniq.refined.tsv.text.tok"
   ]
  },
  {
   "cell_type": "code",
   "execution_count": 3,
   "metadata": {},
   "outputs": [
    {
     "name": "stdout",
     "output_type": "stream",
     "text": [
      "Read 2M words\n",
      "Number of words:  9348\n",
      "Number of labels: 0\n",
      "Progress: 100.0% words/sec/thread:   50892 lr:  0.000000 avg.loss:  1.951296 ETA:   0h 0m 0s51s ETA:   0h 3m46s 3m50s3m55s 3m59s 3m59s 3m58s  0h 3m58s3m58sh 3m54s3m54s 3m53s 3m51s 3m51sm49s 3m48s  0h 3m47sm47s 3m47s 3m45s 3m43s 3m42ss 3m40s 3m39s 2.144175 ETA:   0h 3m38s0h 3m38sm38s 3m38s0h 3m38s 23.0% words/sec/thread:   58937 lr:  0.038521 avg.loss:  2.128156 ETA:   0h 3m38s0h 3m37sh 3m37s0h 3m36sh 3m34s  0h 3m34s  0h 3m32s0h 3m31sh 3m27sh 3m26s  0h 3m21s  0h 3m21s54594 lr:  0.031972 avg.loss:  2.076360 ETA:   0h 3m15sh 3m14s 3m12sm11sh 3m10s 3m 9s 3m 6s0h 3m 2sh 2m57s2.077389 ETA:   0h 2m57sh 2m55s  0h 2m53sh 2m50s 2m48s avg.loss:  2.072244 ETA:   0h 2m47s2m42s 2.071658 ETA:   0h 2m42s lr:  0.024910 avg.loss:  2.070471 ETA:   0h 2m36sh 2m34sh 2m32s  0h 2m32s  0h 2m31s 2m29s2m28s  0h 2m28s  0h 2m27s  0h 2m26s  0h 2m17sh 2m16s0h 2m 4s 1m55sm54s 1m49s 1m38sh 1m35s 1m32s  0h 1m31s ETA:   0h 1m29s ETA:   0h 1m27s0h 1m23sh 1m14s 1m12s 1m 7s  0h 1m 3s0h 1m 2s1.995186 ETA:   0h 1m 0s ETA:   0h 1m 0s0m59sh 0m56s52s 0m51s 1.988246 ETA:   0h 0m48sm45sh 0m42s ETA:   0h 0m41s51128 lr:  0.005807 avg.loss:  1.978365 ETA:   0h 0m37s 0m36s  0h 0m35s 0m33s0h 0m20s 0m19s  0h 0m19s18s  0h 0m18s  0h 0m11s 0m11s 0m10s0h 0m10sh 0m10sh 0m 9s0h 0m 9s 0m 7sh 0m 4s0h 0m 3s  0h 0m 2sh 0m 1s 0m 0sm 0s\n"
     ]
    }
   ],
   "source": [
    "!fasttext skipgram -input ./review.sorted.uniq.refined.tsv.text.tok -output ko.tok -dim 256 -epoch 100 -minCount 5"
   ]
  },
  {
   "cell_type": "code",
   "execution_count": 4,
   "metadata": {},
   "outputs": [
    {
     "name": "stdout",
     "output_type": "stream",
     "text": [
      "Query word? 귀찮 0.695244\r\n",
      "그냥 0.658288\r\n",
      "교환 0.62455\r\n",
      "환불 0.487095\r\n",
      "려다 0.484501\r\n",
      "씁니다 0.446872\r\n",
      "신청 0.430753\r\n",
      "번거로워 0.419304\r\n",
      "취소 0.41098\r\n",
      "걍 0.407143\r\n",
      "Query word? "
     ]
    }
   ],
   "source": [
    "!echo '반품' | fasttext nn ./ko.tok.bin 10"
   ]
  },
  {
   "cell_type": "code",
   "execution_count": 5,
   "metadata": {},
   "outputs": [
    {
     "name": "stdout",
     "output_type": "stream",
     "text": [
      "9348 256\r\n",
      ". -0.077231 0.021279 -0.090636 -0.13661 0.10911 0.022402 0.016962 -0.080678 0.044209 0.16961 0.0019415 0.023759 -0.042623 0.076987 0.097045 -0.034401 -0.092302 -0.014769 -0.10882 -0.13165 0.091633 -0.0069338 -0.083029 0.0090842 -0.061873 -0.063429 0.079863 -0.00095876 0.0028379 -0.080266 -0.024297 0.15176 0.037718 -0.018299 0.080033 -0.15825 -0.01838 -0.20658 0.067267 -0.023797 -0.083744 -0.031968 0.0012046 0.12814 -0.11872 -0.10879 -0.048631 -0.052709 0.13754 -0.055974 -0.062588 0.13348 -0.13109 0.099729 0.013195 -0.11095 -0.093336 0.11712 0.053987 -0.00024818 0.064172 -0.019691 0.069789 -0.048992 -0.10102 -0.041495 -0.081641 0.13796 0.082444 0.010395 0.047875 0.12279 -0.014416 -0.029432 -0.057003 -0.0050387 0.017523 -0.075453 -0.13563 0.040623 0.033375 -0.049351 0.018845 -0.056577 -0.0077893 -0.030539 0.11254 0.09149 -0.045903 -0.017089 -0.08506 0.073927 -0.058407 0.058201 0.058504 0.014359 0.14608 -0.059495 0.020072 0.16671 -0.0057061 -0.14514 0.17156 -0.0146 -0.013266 -0.012467 -0.11017 0.018667 0.073967 0.051309 0.024008 -0.01998 0.024352 0.092742 0.1894 0.061277 0.18317 0.016959 -0.02123 0.028426 -0.04977 -0.0024563 0.046503 -0.036909 0.12231 -0.014092 -0.069547 0.071328 -0.057671 0.053495 -0.042568 0.041303 0.042645 0.1011 0.084272 -0.022984 -0.056228 -0.096818 0.056657 -0.065218 -0.06892 0.10677 0.0017837 -0.074661 0.003626 -0.046402 -0.046259 0.065978 -0.04843 -0.18879 -0.27125 -0.0044324 -0.019671 0.12792 -0.027083 0.070089 0.10465 -0.043255 0.06057 0.084861 -0.072941 -0.071275 -0.1005 -0.10879 0.008713 -0.034657 0.04688 0.010459 -0.10311 0.061453 -0.079568 0.061994 -0.10965 0.062799 -0.02805 -0.098006 -0.022019 -0.056356 -0.013698 0.030567 -0.040381 -0.019854 -0.039033 -0.094088 -0.014506 0.11353 -0.026633 0.060152 0.050117 0.019148 0.0059444 0.13599 -0.029687 -0.049576 -0.083161 0.00026558 -0.13424 -0.044028 0.045146 0.0091301 0.071729 0.12896 0.096521 -0.082408 -0.060341 -0.024071 -0.010383 0.18623 0.017827 -0.05179 -0.054061 0.1176 -0.11953 -0.068947 -0.06367 -0.097772 -0.070677 0.011557 0.15523 0.091814 -0.06637 0.022248 -0.0055821 -0.086989 -0.011744 -0.083961 -0.10138 0.089849 -0.041131 -0.029454 0.014961 -0.023192 0.037531 -0.007593 -0.10774 -0.012639 0.0068363 0.11755 -0.016003 0.057405 -0.09788 0.045784 0.099741 0.10248 0.026929 0.055149 -0.021888 0.091815 0.16996 -0.15478 -0.028895 0.078129 -0.08638 0.013246 -0.15229 0.0026124 \r\n"
     ]
    }
   ],
   "source": [
    "!head -n 2 ./ko.tok.vec"
   ]
  },
  {
   "cell_type": "code",
   "execution_count": null,
   "metadata": {},
   "outputs": [],
   "source": []
  }
 ],
 "metadata": {
  "kernelspec": {
   "display_name": "Python 3",
   "language": "python",
   "name": "python3"
  },
  "language_info": {
   "codemirror_mode": {
    "name": "ipython",
    "version": 3
   },
   "file_extension": ".py",
   "mimetype": "text/x-python",
   "name": "python",
   "nbconvert_exporter": "python",
   "pygments_lexer": "ipython3",
   "version": "3.7.6"
  }
 },
 "nbformat": 4,
 "nbformat_minor": 2
}
